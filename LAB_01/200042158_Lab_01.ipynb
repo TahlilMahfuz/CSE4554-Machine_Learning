{
  "cells": [
    {
      "cell_type": "code",
      "execution_count": null,
      "metadata": {
        "colab": {
          "base_uri": "https://localhost:8080/"
        },
        "id": "gjBNanWD6noO",
        "outputId": "65ba5dc1-d53c-4626-f1ec-611b8cefcd4f"
      },
      "outputs": [
        {
          "name": "stdout",
          "output_type": "stream",
          "text": [
            "[ 3 81 72 18 48 19 89 41 33 52]\n"
          ]
        }
      ],
      "source": [
        "# Task1\n",
        "import numpy as np\n",
        "\n",
        "# Random integers from 0 to 100\n",
        "random_int_array = np.random.randint(0, 100, size=10)\n",
        "\n",
        "print(random_int_array)"
      ]
    },
    {
      "cell_type": "code",
      "execution_count": null,
      "metadata": {
        "colab": {
          "base_uri": "https://localhost:8080/"
        },
        "id": "F300KCJo7DkO",
        "outputId": "f11133ec-bc40-4e16-cb09-439633812bbc"
      },
      "outputs": [
        {
          "name": "stdout",
          "output_type": "stream",
          "text": [
            "Original 2D Array (7x6):\n",
            "[[ 0  1  2  3  4  5]\n",
            " [ 6  7  8  9 10 11]\n",
            " [12 13 14 15 16 17]\n",
            " [18 19 20 21 22 23]\n",
            " [24 25 26 27 28 29]\n",
            " [30 31 32 33 34 35]\n",
            " [36 37 38 39 40 41]]\n",
            "\n",
            "Reshaped 2D Array (3x14):\n",
            "[[ 0  1  2  3  4  5  6  7  8  9 10 11 12 13]\n",
            " [14 15 16 17 18 19 20 21 22 23 24 25 26 27]\n",
            " [28 29 30 31 32 33 34 35 36 37 38 39 40 41]]\n"
          ]
        }
      ],
      "source": [
        "# Task2...\n",
        "import numpy as np\n",
        "\n",
        "# Creating a 2D array of size 7x6\n",
        "original_array = np.arange(42).reshape(7, 6)\n",
        "\n",
        "print(\"Original 2D Array (7x6):\")\n",
        "print(original_array)\n",
        "\n",
        "# Reshaping the array to a 3x14 array\n",
        "reshaped_array = original_array.reshape(3, 14)\n",
        "\n",
        "print(\"\\nReshaped 2D Array (3x14):\")\n",
        "print(reshaped_array)"
      ]
    },
    {
      "cell_type": "code",
      "execution_count": null,
      "metadata": {
        "colab": {
          "base_uri": "https://localhost:8080/"
        },
        "id": "qfRsKO2I7HXG",
        "outputId": "f1c134ed-52fb-469f-af70-12c453e64204"
      },
      "outputs": [
        {
          "name": "stdout",
          "output_type": "stream",
          "text": [
            "[1 3 5 7 9]\n"
          ]
        }
      ],
      "source": [
        "# Task3...\n",
        "import numpy as np\n",
        "\n",
        "original_array = np.array([0, 1, 2, 3, 4, 5, 6, 7, 8, 9])\n",
        "\n",
        "# calculate the mod\n",
        "# If the number is not divisible by 2 we can add them to odd_numbers then print them\n",
        "odd_numbers = original_array[original_array % 2 != 0]\n",
        "\n",
        "print(odd_numbers)"
      ]
    },
    {
      "cell_type": "code",
      "execution_count": null,
      "metadata": {
        "colab": {
          "base_uri": "https://localhost:8080/"
        },
        "id": "Xb71MDkU7O8-",
        "outputId": "3542cf25-4220-47b5-d5f0-b9678d14a00a"
      },
      "outputs": [
        {
          "name": "stdout",
          "output_type": "stream",
          "text": [
            "[ 0 -1  2 -1  4 -1  6 -1  8 -1]\n"
          ]
        }
      ],
      "source": [
        "# Task4...\n",
        "import numpy as np\n",
        "\n",
        "original_array = np.array([0, 1, 2, 3, 4, 5, 6, 7, 8, 9])\n",
        "\n",
        "# If the number is not divisible by 2 we can replace the positions with -1\n",
        "original_array[original_array % 2 != 0] =-1\n",
        "\n",
        "print(original_array)"
      ]
    },
    {
      "cell_type": "code",
      "execution_count": 14,
      "metadata": {
        "colab": {
          "base_uri": "https://localhost:8080/"
        },
        "id": "kc1eBgPS7z-a",
        "outputId": "f8d77cd4-93b2-4aeb-c9fa-01f8ba184a0d"
      },
      "outputs": [
        {
          "name": "stdout",
          "output_type": "stream",
          "text": [
            "[ 0 -1  2 -1  4 -1  6 -1  8 -1]\n"
          ]
        }
      ],
      "source": [
        "# Task5...\n",
        "import numpy as np\n",
        "\n",
        "original_array = np.array([0, 1, 2, 3, 4, 5, 6, 7, 8, 9])\n",
        "\n",
        "# Created a temp list that prevents us from modifying the original_array\n",
        "temp = np.where(original_array%2!=0,-1,original_array.copy())\n",
        "\n",
        "print(temp)"
      ]
    },
    {
      "cell_type": "code",
      "execution_count": 13,
      "metadata": {
        "colab": {
          "base_uri": "https://localhost:8080/"
        },
        "id": "PMvSM28F8oK3",
        "outputId": "baf827bb-d0dc-419e-8d01-930446a898ce"
      },
      "outputs": [
        {
          "name": "stdout",
          "output_type": "stream",
          "text": [
            "(array([1, 3, 5, 7]),)\n"
          ]
        }
      ],
      "source": [
        "# Task6...\n",
        "import numpy as np\n",
        "\n",
        "a = np.array([1, 2, 3, 2, 3, 4, 3, 4, 5, 6])\n",
        "b = np.array([7, 2, 10, 2, 7, 4, 9, 4, 9, 8])\n",
        "\n",
        "# where is a module of numpy that matches two corresponding postion value of the given lists and match them\n",
        "# If the numbers are matched, the indices are saved in machine_position list\n",
        "matching_positions = np.where(a == b)\n",
        "\n",
        "print(matching_positions)\n"
      ]
    },
    {
      "cell_type": "code",
      "execution_count": 17,
      "metadata": {
        "colab": {
          "base_uri": "https://localhost:8080/"
        },
        "id": "ChY-iNQE-azR",
        "outputId": "47a6f43c-1c0a-4b65-a999-704938f9687e"
      },
      "outputs": [
        {
          "name": "stdout",
          "output_type": "stream",
          "text": [
            "[ 6  9 10]\n"
          ]
        }
      ],
      "source": [
        "# Task7...\n",
        "import numpy as np\n",
        "\n",
        "a = np.array([2, 6, 1, 9, 10, 3, 27])\n",
        "\n",
        "# Filters the numbers that are greater than 5 and less than 10\n",
        "filtered_items = a[(a >= 5) & (a <= 10)]\n",
        "\n",
        "print(filtered_items)"
      ]
    },
    {
      "cell_type": "code",
      "execution_count": 27,
      "metadata": {
        "colab": {
          "base_uri": "https://localhost:8080/"
        },
        "id": "PUEPiU1h_1u9",
        "outputId": "998cfcf3-31c4-4901-e267-c5233cbf8202"
      },
      "outputs": [
        {
          "name": "stdout",
          "output_type": "stream",
          "text": [
            "Zeros Matrix:\n",
            "[[0.]\n",
            " [0.]\n",
            " [0.]\n",
            " [0.]\n",
            " [0.]\n",
            " [0.]\n",
            " [0.]\n",
            " [0.]\n",
            " [0.]\n",
            " [0.]]\n",
            "\n",
            "Ones Matrix:\n",
            "[[1.]\n",
            " [1.]\n",
            " [1.]\n",
            " [1.]\n",
            " [1.]\n",
            " [1.]\n",
            " [1.]\n",
            " [1.]\n",
            " [1.]\n",
            " [1.]]\n",
            "\n",
            "Vertically Merged Matrix:\n",
            "[[0.]\n",
            " [0.]\n",
            " [0.]\n",
            " [0.]\n",
            " [0.]\n",
            " [0.]\n",
            " [0.]\n",
            " [0.]\n",
            " [0.]\n",
            " [0.]\n",
            " [1.]\n",
            " [1.]\n",
            " [1.]\n",
            " [1.]\n",
            " [1.]\n",
            " [1.]\n",
            " [1.]\n",
            " [1.]\n",
            " [1.]\n",
            " [1.]]\n",
            "\n",
            "Horizontally Merged Matrix:\n",
            "[[0. 1.]\n",
            " [0. 1.]\n",
            " [0. 1.]\n",
            " [0. 1.]\n",
            " [0. 1.]\n",
            " [0. 1.]\n",
            " [0. 1.]\n",
            " [0. 1.]\n",
            " [0. 1.]\n",
            " [0. 1.]]\n"
          ]
        }
      ],
      "source": [
        "# Task8...\n",
        "import numpy as np\n",
        "\n",
        "# Creating a vector of size 10 with zeros\n",
        "zeros_vector = np.zeros(10)\n",
        "\n",
        "# Creating a vector of size 10 with ones\n",
        "ones_vector = np.ones(10)\n",
        "\n",
        "# Changing their dimensions\n",
        "zeros_matrix = zeros_vector[:, np.newaxis]\n",
        "ones_matrix = ones_vector[:, np.newaxis]\n",
        "\n",
        "# Merging vertically using concatenate\n",
        "vertical_merged = np.concatenate((zeros_matrix, ones_matrix), axis=0)\n",
        "\n",
        "# Merging horizontally using concatenate\n",
        "horizontal_merged = np.concatenate((zeros_matrix, ones_matrix), axis=1)\n",
        "\n",
        "print(\"Zeros Matrix:\")\n",
        "print(zeros_matrix)\n",
        "\n",
        "print(\"\\nOnes Matrix:\")\n",
        "print(ones_matrix)\n",
        "\n",
        "print(\"\\nVertically Merged Matrix:\")\n",
        "print(vertical_merged)\n",
        "\n",
        "print(\"\\nHorizontally Merged Matrix:\")\n",
        "print(horizontal_merged)\n"
      ]
    },
    {
      "cell_type": "code",
      "execution_count": 42,
      "metadata": {
        "colab": {
          "base_uri": "https://localhost:8080/"
        },
        "id": "JuT_HIx4A6rb",
        "outputId": "b4557a15-f32f-46de-9caf-f3979127fb4d"
      },
      "outputs": [
        {
          "name": "stdout",
          "output_type": "stream",
          "text": [
            "[[40 13  7 20]\n",
            " [ 0 42  2 18]\n",
            " [ 1 33 39 12]\n",
            " [39 10 28 10]\n",
            " [ 7 17 40  4]]\n"
          ]
        }
      ],
      "source": [
        "# Task9...\n",
        "import numpy as np\n",
        "\n",
        "# Created a matrix of size 5x4 with random numbers between 0 and 50\n",
        "ndarray = np.random.randint(0,50,size = (5,4))\n",
        "\n",
        "print(ndarray)\n"
      ]
    },
    {
      "cell_type": "code",
      "execution_count": 31,
      "metadata": {
        "colab": {
          "base_uri": "https://localhost:8080/"
        },
        "id": "8f8BNZ9kFwvi",
        "outputId": "47a117f0-e301-4936-d4e3-1cdf5af9a9ca"
      },
      "outputs": [
        {
          "name": "stdout",
          "output_type": "stream",
          "text": [
            "x = [[0.48177963 0.68286688 0.70183391 0.52983859]\n",
            " [0.24355062 0.11336812 0.88641367 0.08306168]\n",
            " [0.49816192 0.74500784 0.09272058 0.00616618]\n",
            " [0.31381874 0.25968436 0.86284271 0.1183659 ]\n",
            " [0.88989034 0.28143115 0.62600586 0.01656519]]\n",
            "y = [0 0 0 0 1]\n"
          ]
        }
      ],
      "source": [
        "# Task10...\n",
        "import numpy as np\n",
        "\n",
        "#\n",
        "x=np.random.rand(5,4)\n",
        "y=np.random.randint(0,2,5)\n",
        "\n",
        "print('x =', x)\n",
        "print('y =', y)"
      ]
    },
    {
      "cell_type": "code",
      "execution_count": 33,
      "metadata": {
        "colab": {
          "base_uri": "https://localhost:8080/"
        },
        "id": "5lqXSWUdGmXk",
        "outputId": "42cb1d88-571b-49e5-f1de-2f059a273904"
      },
      "outputs": [
        {
          "name": "stdout",
          "output_type": "stream",
          "text": [
            "[[0.88989034 0.28143115 0.62600586 0.01656519]]\n"
          ]
        }
      ],
      "source": [
        "# Task11...\n",
        "def extract_subset(x,y,y0):\n",
        "  return x[y == y0]\n",
        "\n",
        "print(extract_subset(x,y,1))"
      ]
    },
    {
      "cell_type": "code",
      "execution_count": 48,
      "metadata": {
        "colab": {
          "base_uri": "https://localhost:8080/"
        },
        "id": "xjm34zwmIIWc",
        "outputId": "a080942a-e96d-4674-ce13-3c02dcdcdae5"
      },
      "outputs": [
        {
          "name": "stdout",
          "output_type": "stream",
          "text": [
            "[(5.1, 3.5, 1.4, 0.2, 'setosa') (4.9, 3. , 1.4, 0.2, 'setosa')\n",
            " (4.7, 3.2, 1.3, 0.2, 'setosa') (4.6, 3.1, 1.5, 0.2, 'setosa')\n",
            " (5. , 3.6, 1.4, 0.2, 'setosa') (5.4, 3.9, 1.7, 0.4, 'setosa')\n",
            " (4.6, 3.4, 1.4, 0.3, 'setosa') (5. , 3.4, 1.5, 0.2, 'setosa')\n",
            " (4.4, 2.9, 1.4, 0.2, 'setosa') (4.9, 3.1, 1.5, 0.1, 'setosa')\n",
            " (5.4, 3.7, 1.5, 0.2, 'setosa') (4.8, 3.4, 1.6, 0.2, 'setosa')\n",
            " (4.8, 3. , 1.4, 0.1, 'setosa') (4.3, 3. , 1.1, 0.1, 'setosa')\n",
            " (5.8, 4. , 1.2, 0.2, 'setosa') (5.7, 4.4, 1.5, 0.4, 'setosa')\n",
            " (5.4, 3.9, 1.3, 0.4, 'setosa') (5.1, 3.5, 1.4, 0.3, 'setosa')\n",
            " (5.7, 3.8, 1.7, 0.3, 'setosa') (5.1, 3.8, 1.5, 0.3, 'setosa')\n",
            " (5.4, 3.4, 1.7, 0.2, 'setosa') (5.1, 3.7, 1.5, 0.4, 'setosa')\n",
            " (4.6, 3.6, 1. , 0.2, 'setosa') (5.1, 3.3, 1.7, 0.5, 'setosa')\n",
            " (4.8, 3.4, 1.9, 0.2, 'setosa') (5. , 3. , 1.6, 0.2, 'setosa')\n",
            " (5. , 3.4, 1.6, 0.4, 'setosa') (5.2, 3.5, 1.5, 0.2, 'setosa')\n",
            " (5.2, 3.4, 1.4, 0.2, 'setosa') (4.7, 3.2, 1.6, 0.2, 'setosa')\n",
            " (4.8, 3.1, 1.6, 0.2, 'setosa') (5.4, 3.4, 1.5, 0.4, 'setosa')\n",
            " (5.2, 4.1, 1.5, 0.1, 'setosa') (5.5, 4.2, 1.4, 0.2, 'setosa')\n",
            " (4.9, 3.1, 1.5, 0.1, 'setosa') (5. , 3.2, 1.2, 0.2, 'setosa')\n",
            " (5.5, 3.5, 1.3, 0.2, 'setosa') (4.9, 3.1, 1.5, 0.1, 'setosa')\n",
            " (4.4, 3. , 1.3, 0.2, 'setosa') (5.1, 3.4, 1.5, 0.2, 'setosa')\n",
            " (5. , 3.5, 1.3, 0.3, 'setosa') (4.5, 2.3, 1.3, 0.3, 'setosa')\n",
            " (4.4, 3.2, 1.3, 0.2, 'setosa') (5. , 3.5, 1.6, 0.6, 'setosa')\n",
            " (5.1, 3.8, 1.9, 0.4, 'setosa') (4.8, 3. , 1.4, 0.3, 'setosa')\n",
            " (5.1, 3.8, 1.6, 0.2, 'setosa') (4.6, 3.2, 1.4, 0.2, 'setosa')\n",
            " (5.3, 3.7, 1.5, 0.2, 'setosa') (5. , 3.3, 1.4, 0.2, 'setosa')\n",
            " (7. , 3.2, 4.7, 1.4, 'versicolor') (6.4, 3.2, 4.5, 1.5, 'versicolor')\n",
            " (6.9, 3.1, 4.9, 1.5, 'versicolor') (5.5, 2.3, 4. , 1.3, 'versicolor')\n",
            " (6.5, 2.8, 4.6, 1.5, 'versicolor') (5.7, 2.8, 4.5, 1.3, 'versicolor')\n",
            " (6.3, 3.3, 4.7, 1.6, 'versicolor') (4.9, 2.4, 3.3, 1. , 'versicolor')\n",
            " (6.6, 2.9, 4.6, 1.3, 'versicolor') (5.2, 2.7, 3.9, 1.4, 'versicolor')\n",
            " (5. , 2. , 3.5, 1. , 'versicolor') (5.9, 3. , 4.2, 1.5, 'versicolor')\n",
            " (6. , 2.2, 4. , 1. , 'versicolor') (6.1, 2.9, 4.7, 1.4, 'versicolor')\n",
            " (5.6, 2.9, 3.6, 1.3, 'versicolor') (6.7, 3.1, 4.4, 1.4, 'versicolor')\n",
            " (5.6, 3. , 4.5, 1.5, 'versicolor') (5.8, 2.7, 4.1, 1. , 'versicolor')\n",
            " (6.2, 2.2, 4.5, 1.5, 'versicolor') (5.6, 2.5, 3.9, 1.1, 'versicolor')\n",
            " (5.9, 3.2, 4.8, 1.8, 'versicolor') (6.1, 2.8, 4. , 1.3, 'versicolor')\n",
            " (6.3, 2.5, 4.9, 1.5, 'versicolor') (6.1, 2.8, 4.7, 1.2, 'versicolor')\n",
            " (6.4, 2.9, 4.3, 1.3, 'versicolor') (6.6, 3. , 4.4, 1.4, 'versicolor')\n",
            " (6.8, 2.8, 4.8, 1.4, 'versicolor') (6.7, 3. , 5. , 1.7, 'versicolor')\n",
            " (6. , 2.9, 4.5, 1.5, 'versicolor') (5.7, 2.6, 3.5, 1. , 'versicolor')\n",
            " (5.5, 2.4, 3.8, 1.1, 'versicolor') (5.5, 2.4, 3.7, 1. , 'versicolor')\n",
            " (5.8, 2.7, 3.9, 1.2, 'versicolor') (6. , 2.7, 5.1, 1.6, 'versicolor')\n",
            " (5.4, 3. , 4.5, 1.5, 'versicolor') (6. , 3.4, 4.5, 1.6, 'versicolor')\n",
            " (6.7, 3.1, 4.7, 1.5, 'versicolor') (6.3, 2.3, 4.4, 1.3, 'versicolor')\n",
            " (5.6, 3. , 4.1, 1.3, 'versicolor') (5.5, 2.5, 4. , 1.3, 'versicolor')\n",
            " (5.5, 2.6, 4.4, 1.2, 'versicolor') (6.1, 3. , 4.6, 1.4, 'versicolor')\n",
            " (5.8, 2.6, 4. , 1.2, 'versicolor') (5. , 2.3, 3.3, 1. , 'versicolor')\n",
            " (5.6, 2.7, 4.2, 1.3, 'versicolor') (5.7, 3. , 4.2, 1.2, 'versicolor')\n",
            " (5.7, 2.9, 4.2, 1.3, 'versicolor') (6.2, 2.9, 4.3, 1.3, 'versicolor')\n",
            " (5.1, 2.5, 3. , 1.1, 'versicolor') (5.7, 2.8, 4.1, 1.3, 'versicolor')\n",
            " (6.3, 3.3, 6. , 2.5, 'virginica') (5.8, 2.7, 5.1, 1.9, 'virginica')\n",
            " (7.1, 3. , 5.9, 2.1, 'virginica') (6.3, 2.9, 5.6, 1.8, 'virginica')\n",
            " (6.5, 3. , 5.8, 2.2, 'virginica') (7.6, 3. , 6.6, 2.1, 'virginica')\n",
            " (4.9, 2.5, 4.5, 1.7, 'virginica') (7.3, 2.9, 6.3, 1.8, 'virginica')\n",
            " (6.7, 2.5, 5.8, 1.8, 'virginica') (7.2, 3.6, 6.1, 2.5, 'virginica')\n",
            " (6.5, 3.2, 5.1, 2. , 'virginica') (6.4, 2.7, 5.3, 1.9, 'virginica')\n",
            " (6.8, 3. , 5.5, 2.1, 'virginica') (5.7, 2.5, 5. , 2. , 'virginica')\n",
            " (5.8, 2.8, 5.1, 2.4, 'virginica') (6.4, 3.2, 5.3, 2.3, 'virginica')\n",
            " (6.5, 3. , 5.5, 1.8, 'virginica') (7.7, 3.8, 6.7, 2.2, 'virginica')\n",
            " (7.7, 2.6, 6.9, 2.3, 'virginica') (6. , 2.2, 5. , 1.5, 'virginica')\n",
            " (6.9, 3.2, 5.7, 2.3, 'virginica') (5.6, 2.8, 4.9, 2. , 'virginica')\n",
            " (7.7, 2.8, 6.7, 2. , 'virginica') (6.3, 2.7, 4.9, 1.8, 'virginica')\n",
            " (6.7, 3.3, 5.7, 2.1, 'virginica') (7.2, 3.2, 6. , 1.8, 'virginica')\n",
            " (6.2, 2.8, 4.8, 1.8, 'virginica') (6.1, 3. , 4.9, 1.8, 'virginica')\n",
            " (6.4, 2.8, 5.6, 2.1, 'virginica') (7.2, 3. , 5.8, 1.6, 'virginica')\n",
            " (7.4, 2.8, 6.1, 1.9, 'virginica') (7.9, 3.8, 6.4, 2. , 'virginica')\n",
            " (6.4, 2.8, 5.6, 2.2, 'virginica') (6.3, 2.8, 5.1, 1.5, 'virginica')\n",
            " (6.1, 2.6, 5.6, 1.4, 'virginica') (7.7, 3. , 6.1, 2.3, 'virginica')\n",
            " (6.3, 3.4, 5.6, 2.4, 'virginica') (6.4, 3.1, 5.5, 1.8, 'virginica')\n",
            " (6. , 3. , 4.8, 1.8, 'virginica') (6.9, 3.1, 5.4, 2.1, 'virginica')\n",
            " (6.7, 3.1, 5.6, 2.4, 'virginica') (6.9, 3.1, 5.1, 2.3, 'virginica')\n",
            " (5.8, 2.7, 5.1, 1.9, 'virginica') (6.8, 3.2, 5.9, 2.3, 'virginica')\n",
            " (6.7, 3.3, 5.7, 2.5, 'virginica') (6.7, 3. , 5.2, 2.3, 'virginica')\n",
            " (6.3, 2.5, 5. , 1.9, 'virginica') (6.5, 3. , 5.2, 2. , 'virginica')\n",
            " (6.2, 3.4, 5.4, 2.3, 'virginica') (5.9, 3. , 5.1, 1.8, 'virginica')]\n"
          ]
        }
      ],
      "source": [
        "# # Task12...\n",
        "# import pandas as pd\n",
        "\n",
        "# # Load the Iris dataset from scikit-learn\n",
        "# from sklearn.datasets import load_iris\n",
        "# iris = load_iris()\n",
        "\n",
        "# # Create a DataFrame with both text and numeric components\n",
        "# iris_df = pd.DataFrame(data=iris.data, columns=iris.feature_names)\n",
        "\n",
        "# print(iris_df)\n",
        "\n",
        "import numpy as np\n",
        "\n",
        "# Load the IRIS dataset\n",
        "url = \"https://raw.githubusercontent.com/uiuc-cse/data-fa14/gh-pages/data/iris.csv\"\n",
        "data = np.genfromtxt(url, delimiter=',', skip_header=1, dtype=None, encoding=None)\n",
        "\n",
        "print(data)\n",
        "\n"
      ]
    },
    {
      "cell_type": "code",
      "execution_count": 8,
      "metadata": {
        "colab": {
          "base_uri": "https://localhost:8080/"
        },
        "id": "ZsTgTlTgIldi",
        "outputId": "62bb7774-3cb0-485c-c896-50ce73eb7931"
      },
      "outputs": [
        {
          "name": "stdout",
          "output_type": "stream",
          "text": [
            "Mean: 5.843333333333334\n",
            "Median: 5.8\n",
            "Standard Deviation: 0.8253012917851409\n",
            "[[5.1 3.5 1.4 0.2 nan]\n",
            " [4.9 3.  1.4 0.2 nan]\n",
            " [4.7 3.2 1.3 0.2 nan]\n",
            " [4.6 3.1 1.5 0.2 nan]\n",
            " [5.  3.6 1.4 0.2 nan]\n",
            " [5.4 3.9 1.7 0.4 nan]\n",
            " [4.6 3.4 1.4 0.3 nan]\n",
            " [5.  3.4 1.5 0.2 nan]\n",
            " [4.4 2.9 1.4 0.2 nan]\n",
            " [4.9 3.1 1.5 0.1 nan]\n",
            " [5.4 3.7 1.5 0.2 nan]\n",
            " [4.8 3.4 1.6 0.2 nan]\n",
            " [4.8 3.  1.4 0.1 nan]\n",
            " [4.3 3.  1.1 0.1 nan]\n",
            " [5.8 4.  1.2 0.2 nan]\n",
            " [5.7 4.4 1.5 0.4 nan]\n",
            " [5.4 3.9 1.3 0.4 nan]\n",
            " [5.1 3.5 1.4 0.3 nan]\n",
            " [5.7 3.8 1.7 0.3 nan]\n",
            " [5.1 3.8 1.5 0.3 nan]\n",
            " [5.4 3.4 1.7 0.2 nan]\n",
            " [5.1 3.7 1.5 0.4 nan]\n",
            " [4.6 3.6 1.  0.2 nan]\n",
            " [5.1 3.3 1.7 0.5 nan]\n",
            " [4.8 3.4 1.9 0.2 nan]\n",
            " [5.  3.  1.6 0.2 nan]\n",
            " [5.  3.4 1.6 0.4 nan]\n",
            " [5.2 3.5 1.5 0.2 nan]\n",
            " [5.2 3.4 1.4 0.2 nan]\n",
            " [4.7 3.2 1.6 0.2 nan]\n",
            " [4.8 3.1 1.6 0.2 nan]\n",
            " [5.4 3.4 1.5 0.4 nan]\n",
            " [5.2 4.1 1.5 0.1 nan]\n",
            " [5.5 4.2 1.4 0.2 nan]\n",
            " [4.9 3.1 1.5 0.1 nan]\n",
            " [5.  3.2 1.2 0.2 nan]\n",
            " [5.5 3.5 1.3 0.2 nan]\n",
            " [4.9 3.1 1.5 0.1 nan]\n",
            " [4.4 3.  1.3 0.2 nan]\n",
            " [5.1 3.4 1.5 0.2 nan]\n",
            " [5.  3.5 1.3 0.3 nan]\n",
            " [4.5 2.3 1.3 0.3 nan]\n",
            " [4.4 3.2 1.3 0.2 nan]\n",
            " [5.  3.5 1.6 0.6 nan]\n",
            " [5.1 3.8 1.9 0.4 nan]\n",
            " [4.8 3.  1.4 0.3 nan]\n",
            " [5.1 3.8 1.6 0.2 nan]\n",
            " [4.6 3.2 1.4 0.2 nan]\n",
            " [5.3 3.7 1.5 0.2 nan]\n",
            " [5.  3.3 1.4 0.2 nan]\n",
            " [7.  3.2 4.7 1.4 nan]\n",
            " [6.4 3.2 4.5 1.5 nan]\n",
            " [6.9 3.1 4.9 1.5 nan]\n",
            " [5.5 2.3 4.  1.3 nan]\n",
            " [6.5 2.8 4.6 1.5 nan]\n",
            " [5.7 2.8 4.5 1.3 nan]\n",
            " [6.3 3.3 4.7 1.6 nan]\n",
            " [4.9 2.4 3.3 1.  nan]\n",
            " [6.6 2.9 4.6 1.3 nan]\n",
            " [5.2 2.7 3.9 1.4 nan]\n",
            " [5.  2.  3.5 1.  nan]\n",
            " [5.9 3.  4.2 1.5 nan]\n",
            " [6.  2.2 4.  1.  nan]\n",
            " [6.1 2.9 4.7 1.4 nan]\n",
            " [5.6 2.9 3.6 1.3 nan]\n",
            " [6.7 3.1 4.4 1.4 nan]\n",
            " [5.6 3.  4.5 1.5 nan]\n",
            " [5.8 2.7 4.1 1.  nan]\n",
            " [6.2 2.2 4.5 1.5 nan]\n",
            " [5.6 2.5 3.9 1.1 nan]\n",
            " [5.9 3.2 4.8 1.8 nan]\n",
            " [6.1 2.8 4.  1.3 nan]\n",
            " [6.3 2.5 4.9 1.5 nan]\n",
            " [6.1 2.8 4.7 1.2 nan]\n",
            " [6.4 2.9 4.3 1.3 nan]\n",
            " [6.6 3.  4.4 1.4 nan]\n",
            " [6.8 2.8 4.8 1.4 nan]\n",
            " [6.7 3.  5.  1.7 nan]\n",
            " [6.  2.9 4.5 1.5 nan]\n",
            " [5.7 2.6 3.5 1.  nan]\n",
            " [5.5 2.4 3.8 1.1 nan]\n",
            " [5.5 2.4 3.7 1.  nan]\n",
            " [5.8 2.7 3.9 1.2 nan]\n",
            " [6.  2.7 5.1 1.6 nan]\n",
            " [5.4 3.  4.5 1.5 nan]\n",
            " [6.  3.4 4.5 1.6 nan]\n",
            " [6.7 3.1 4.7 1.5 nan]\n",
            " [6.3 2.3 4.4 1.3 nan]\n",
            " [5.6 3.  4.1 1.3 nan]\n",
            " [5.5 2.5 4.  1.3 nan]\n",
            " [5.5 2.6 4.4 1.2 nan]\n",
            " [6.1 3.  4.6 1.4 nan]\n",
            " [5.8 2.6 4.  1.2 nan]\n",
            " [5.  2.3 3.3 1.  nan]\n",
            " [5.6 2.7 4.2 1.3 nan]\n",
            " [5.7 3.  4.2 1.2 nan]\n",
            " [5.7 2.9 4.2 1.3 nan]\n",
            " [6.2 2.9 4.3 1.3 nan]\n",
            " [5.1 2.5 3.  1.1 nan]\n",
            " [5.7 2.8 4.1 1.3 nan]\n",
            " [6.3 3.3 6.  2.5 nan]\n",
            " [5.8 2.7 5.1 1.9 nan]\n",
            " [7.1 3.  5.9 2.1 nan]\n",
            " [6.3 2.9 5.6 1.8 nan]\n",
            " [6.5 3.  5.8 2.2 nan]\n",
            " [7.6 3.  6.6 2.1 nan]\n",
            " [4.9 2.5 4.5 1.7 nan]\n",
            " [7.3 2.9 6.3 1.8 nan]\n",
            " [6.7 2.5 5.8 1.8 nan]\n",
            " [7.2 3.6 6.1 2.5 nan]\n",
            " [6.5 3.2 5.1 2.  nan]\n",
            " [6.4 2.7 5.3 1.9 nan]\n",
            " [6.8 3.  5.5 2.1 nan]\n",
            " [5.7 2.5 5.  2.  nan]\n",
            " [5.8 2.8 5.1 2.4 nan]\n",
            " [6.4 3.2 5.3 2.3 nan]\n",
            " [6.5 3.  5.5 1.8 nan]\n",
            " [7.7 3.8 6.7 2.2 nan]\n",
            " [7.7 2.6 6.9 2.3 nan]\n",
            " [6.  2.2 5.  1.5 nan]\n",
            " [6.9 3.2 5.7 2.3 nan]\n",
            " [5.6 2.8 4.9 2.  nan]\n",
            " [7.7 2.8 6.7 2.  nan]\n",
            " [6.3 2.7 4.9 1.8 nan]\n",
            " [6.7 3.3 5.7 2.1 nan]\n",
            " [7.2 3.2 6.  1.8 nan]\n",
            " [6.2 2.8 4.8 1.8 nan]\n",
            " [6.1 3.  4.9 1.8 nan]\n",
            " [6.4 2.8 5.6 2.1 nan]\n",
            " [7.2 3.  5.8 1.6 nan]\n",
            " [7.4 2.8 6.1 1.9 nan]\n",
            " [7.9 3.8 6.4 2.  nan]\n",
            " [6.4 2.8 5.6 2.2 nan]\n",
            " [6.3 2.8 5.1 1.5 nan]\n",
            " [6.1 2.6 5.6 1.4 nan]\n",
            " [7.7 3.  6.1 2.3 nan]\n",
            " [6.3 3.4 5.6 2.4 nan]\n",
            " [6.4 3.1 5.5 1.8 nan]\n",
            " [6.  3.  4.8 1.8 nan]\n",
            " [6.9 3.1 5.4 2.1 nan]\n",
            " [6.7 3.1 5.6 2.4 nan]\n",
            " [6.9 3.1 5.1 2.3 nan]\n",
            " [5.8 2.7 5.1 1.9 nan]\n",
            " [6.8 3.2 5.9 2.3 nan]\n",
            " [6.7 3.3 5.7 2.5 nan]\n",
            " [6.7 3.  5.2 2.3 nan]\n",
            " [6.3 2.5 5.  1.9 nan]\n",
            " [6.5 3.  5.2 2.  nan]\n",
            " [6.2 3.4 5.4 2.3 nan]\n",
            " [5.9 3.  5.1 1.8 nan]]\n"
          ]
        }
      ],
      "source": [
        "# Task13...\n",
        "# import pandas as pd\n",
        "# import numpy as np\n",
        "\n",
        "# # Load the Iris dataset from scikit-learn\n",
        "# from sklearn.datasets import load_iris\n",
        "# iris = load_iris()\n",
        "\n",
        "# # Create a DataFrame\n",
        "# iris_df = pd.DataFrame(data=iris.data, columns=iris.feature_names)\n",
        "\n",
        "# # Calculating statistics for the 1st column (sepal length)\n",
        "# sepal_length = iris_df[iris.feature_names[0]]\n",
        "# mean_sepal_length = np.mean(sepal_length)\n",
        "# median_sepal_length = np.median(sepal_length)\n",
        "# std_dev_sepal_length = np.std(sepal_length)\n",
        "\n",
        "# # Display statistics for the 1st column\n",
        "# print(\"Statistics for Sepal Length:\")\n",
        "# print(\"Mean:\", mean_sepal_length)\n",
        "# print(\"Median:\", median_sepal_length)\n",
        "# print(\"Standard Deviation:\", std_dev_sepal_length)\n",
        "\n",
        "# # Display statistical summary of the entire dataset\n",
        "# print(\"\\nStatistical Summary of the Dataset:\")\n",
        "# print(iris_df.describe())\n",
        "\n",
        "import numpy as np\n",
        "\n",
        "# Load the IRIS dataset\n",
        "url = \"https://raw.githubusercontent.com/uiuc-cse/data-fa14/gh-pages/data/iris.csv\"\n",
        "data = np.genfromtxt(url, delimiter=',', skip_header=1)\n",
        "\n",
        "# Extract the first column\n",
        "first_column = data[:, 0]\n",
        "\n",
        "# Calculate mean, median, and standard deviation\n",
        "mean = np.mean(first_column)\n",
        "median = np.median(first_column)\n",
        "std_dev = np.std(first_column)\n",
        "\n",
        "print(\"Mean:\", mean)\n",
        "print(\"Median:\", median)\n",
        "print(\"Standard Deviation:\", std_dev)\n",
        "\n",
        "print(data)"
      ]
    }
  ],
  "metadata": {
    "colab": {
      "provenance": []
    },
    "kernelspec": {
      "display_name": "Python 3",
      "name": "python3"
    },
    "language_info": {
      "codemirror_mode": {
        "name": "ipython",
        "version": 3
      },
      "file_extension": ".py",
      "mimetype": "text/x-python",
      "name": "python",
      "nbconvert_exporter": "python",
      "pygments_lexer": "ipython3",
      "version": "3.11.4"
    }
  },
  "nbformat": 4,
  "nbformat_minor": 0
}
